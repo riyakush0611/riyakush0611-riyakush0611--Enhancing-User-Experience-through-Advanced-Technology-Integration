{
 "cells": [
  {
   "cell_type": "code",
   "execution_count": 1,
   "metadata": {
    "collapsed": true
   },
   "outputs": [],
   "source": [
    "import numpy as np\n",
    "import pandas as pd"
   ]
  },
  {
   "cell_type": "code",
   "execution_count": 8,
   "metadata": {},
   "outputs": [
    {
     "name": "stderr",
     "output_type": "stream",
     "text": [
      "C:\\Users\\Tejas\\Anaconda3\\lib\\site-packages\\IPython\\core\\interactiveshell.py:2717: DtypeWarning: Columns (8,12,13,14,15,16,50,51,52,53,55,56,57,58,59,60,61,62,63,64,65,66,67,68,69,70,71,72,73,74,75,76,77,78,79,80,81,82,83,84,85,93,94,95,96,97,98,99,100,101,102,103,104,105,106,107,108,109,110,111,112,113,114,115,116,117,118,119,120,121,122,123,124,125,126,127,128) have mixed types. Specify dtype option on import or set low_memory=False.\n",
      "  interactivity=interactivity, compiler=compiler, result=result)\n"
     ]
    }
   ],
   "source": [
    "user_df=pd.read_csv(\"../survey_results_public.csv\")\n",
    "platforms_unclean=user_df.loc[:,\"PlatformWorkedWith\"].tolist()\n",
    "platforms_unclean_next=user_df.loc[:,\"PlatformDesireNextYear\"].tolist()\n",
    "platforms=[]\n",
    "for string1,string2 in list(zip(platforms_unclean,platforms_unclean_next)):\n",
    "    if(not pd.isnull(string1)):\n",
    "        ele=string1.split(\";\")\n",
    "        for plat in ele:\n",
    "            if(plat not in platforms):\n",
    "                platforms.append(plat)\n",
    "    if(not pd.isnull(string2)):\n",
    "        ele=string2.split(\";\")\n",
    "        for plat in ele:\n",
    "            if(plat not in platforms):\n",
    "                platforms.append(plat)\n",
    "platform_df=pd.DataFrame.from_dict({'Platform':platforms})\n",
    "platform_df.to_csv(\"../platforms.csv\")"
   ]
  },
  {
   "cell_type": "code",
   "execution_count": 21,
   "metadata": {},
   "outputs": [
    {
     "name": "stdout",
     "output_type": "stream",
     "text": [
      "['Django', 'React', 'Angular', '.NET Core', 'Node.js', 'TensorFlow', 'Hadoop', 'Spark', 'Spring', 'Cordova', 'Xamarin', 'Torch/PyTorch']\n",
      "<class 'pandas.core.frame.DataFrame'>\n",
      "192\n",
      "             frameworks\n",
      "0             AngularJS\n",
      "1         Ruby on Rails\n",
      "2           ASP.NET MVC\n",
      "3                 React\n",
      "4                Django\n",
      "5               Angular\n",
      "6               Laravel\n",
      "7                Spring\n",
      "8                Vue.js\n",
      "9               Express\n",
      "10               Meteor\n",
      "11              Symfony\n",
      "12                Flask\n",
      "13          CodeIgniter\n",
      "14             Ember.js\n",
      "15                  JSF\n",
      "16                 Flex\n",
      "17              CakePHP\n",
      "18   Google Web Toolkit\n",
      "19              Polymer\n",
      "20                 Play\n",
      "21             Sails.js\n",
      "22                 Zend\n",
      "23                  Yii\n",
      "24              Tornado\n",
      "25              Sinatra\n",
      "26               Grails\n",
      "27              Phoenix\n",
      "28              Aurelia\n",
      "29                  Koa\n",
      "..                  ...\n",
      "168              Xyster\n",
      "169                Vork\n",
      "170              Brutos\n",
      "171          ClearPress\n",
      "172               Agile\n",
      "173             Seagull\n",
      "174          HybridJava\n",
      "175              Hadoop\n",
      "176          Map Reduce\n",
      "177                YARN\n",
      "178               Spark\n",
      "179                Hive\n",
      "180                HPCC\n",
      "181               Storm\n",
      "182              Qubole\n",
      "183           Cassandra\n",
      "184            Statwing\n",
      "185             CouchDB\n",
      "186             Pentaho\n",
      "187               Flink\n",
      "188            Cloudera\n",
      "189          Rapidminer\n",
      "190          Openrefine\n",
      "191              NodeJS\n",
      "192           .NET Core\n",
      "193             Node.js\n",
      "194          TensorFlow\n",
      "195             Cordova\n",
      "196             Xamarin\n",
      "197       Torch/PyTorch\n",
      "\n",
      "[198 rows x 1 columns]\n"
     ]
    }
   ],
   "source": [
    "frameworks_unclean=user_df.loc[:,\"FrameworkWorkedWith\"].tolist()\n",
    "frameworks_unclean_next=user_df.loc[:,\"FrameworkDesireNextYear\"].tolist()\n",
    "frameworks=[]\n",
    "for string1,string2 in list(zip(frameworks_unclean,frameworks_unclean_next)):\n",
    "    if(not pd.isnull(string1)):\n",
    "        ele=string1.split(\";\")\n",
    "        for plat in ele:\n",
    "            if(plat not in frameworks):\n",
    "                frameworks.append(plat)\n",
    "    if(not pd.isnull(string2)):\n",
    "        ele=string2.split(\";\")\n",
    "        for plat in ele:\n",
    "            if(plat not in frameworks):\n",
    "                frameworks.append(plat)\n",
    "print(frameworks)\n",
    "existing_frameworks=pd.read_excel(\"../frameworks.xlsx\")\n",
    "print(type(existing_frameworks))\n",
    "existing_frameworks=existing_frameworks.iloc[:,0].tolist()\n",
    "existing_frameworks=[x.split(\"\\t\")[0] for x in existing_frameworks]\n",
    "print(len(existing_frameworks))\n",
    "for fr in frameworks:\n",
    "    if(fr not in existing_frameworks):\n",
    "        existing_frameworks.append(fr)\n",
    "framework_df=pd.DataFrame.from_dict({'frameworks':existing_frameworks})\n",
    "print(framework_df)\n",
    "framework_df.to_csv(\"../frameworks.csv\")"
   ]
  }
 ],
 "metadata": {
  "kernelspec": {
   "display_name": "Python 3",
   "language": "python",
   "name": "python3"
  },
  "language_info": {
   "codemirror_mode": {
    "name": "ipython",
    "version": 3
   },
   "file_extension": ".py",
   "mimetype": "text/x-python",
   "name": "python",
   "nbconvert_exporter": "python",
   "pygments_lexer": "ipython3",
   "version": "3.6.1"
  }
 },
 "nbformat": 4,
 "nbformat_minor": 2
}
