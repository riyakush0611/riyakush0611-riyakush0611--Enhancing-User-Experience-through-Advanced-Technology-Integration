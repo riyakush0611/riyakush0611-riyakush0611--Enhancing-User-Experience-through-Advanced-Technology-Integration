{
 "cells": [
  {
   "cell_type": "code",
   "execution_count": 1,
   "metadata": {
    "collapsed": true
   },
   "outputs": [],
   "source": [
    "import pandas as pd\n",
    "import numpy as np\n"
   ]
  },
  {
   "cell_type": "code",
   "execution_count": 14,
   "metadata": {
    "collapsed": true
   },
   "outputs": [],
   "source": [
    "df=pd.read_csv(\"user_profile.csv\")"
   ]
  },
  {
   "cell_type": "code",
   "execution_count": 15,
   "metadata": {
    "collapsed": false
   },
   "outputs": [
    {
     "data": {
      "text/plain": [
       "0        100\n",
       "1        104\n",
       "2        115\n",
       "3        103\n",
       "4         99\n",
       "5        103\n",
       "6        106\n",
       "7        100\n",
       "8         79\n",
       "9        116\n",
       "10       113\n",
       "11       114\n",
       "12       115\n",
       "13       105\n",
       "14       105\n",
       "15       116\n",
       "16       116\n",
       "17       107\n",
       "18       108\n",
       "19       112\n",
       "20        96\n",
       "21        96\n",
       "22       100\n",
       "23       100\n",
       "24       102\n",
       "25       105\n",
       "26       104\n",
       "27       102\n",
       "28       112\n",
       "29        97\n",
       "        ... \n",
       "98825    117\n",
       "98826    117\n",
       "98827    117\n",
       "98828    117\n",
       "98829    117\n",
       "98830    117\n",
       "98831    117\n",
       "98832    117\n",
       "98833    114\n",
       "98834    114\n",
       "98835    117\n",
       "98836    117\n",
       "98837    117\n",
       "98838    117\n",
       "98839    117\n",
       "98840    117\n",
       "98841    117\n",
       "98842    117\n",
       "98843    117\n",
       "98844    117\n",
       "98845    117\n",
       "98846    117\n",
       "98847    117\n",
       "98848    117\n",
       "98849    117\n",
       "98850    117\n",
       "98851    115\n",
       "98852    117\n",
       "98853    117\n",
       "98854    117\n",
       "dtype: int64"
      ]
     },
     "execution_count": 15,
     "metadata": {},
     "output_type": "execute_result"
    }
   ],
   "source": [
    "df.shape[1] - df.count(axis=1)"
   ]
  },
  {
   "cell_type": "code",
   "execution_count": 18,
   "metadata": {
    "collapsed": false
   },
   "outputs": [],
   "source": [
    "df1=df.dropna(thresh=6)"
   ]
  },
  {
   "cell_type": "code",
   "execution_count": 20,
   "metadata": {
    "collapsed": false
   },
   "outputs": [],
   "source": [
    "df1.shape[0]\n",
    "#df.shape[1]\n",
    "train=df1.sample(frac=0.80)"
   ]
  },
  {
   "cell_type": "code",
   "execution_count": 25,
   "metadata": {
    "collapsed": true
   },
   "outputs": [],
   "source": [
    "test=pd.concat([df1,train]).drop_duplicates(keep=False)"
   ]
  },
  {
   "cell_type": "code",
   "execution_count": 24,
   "metadata": {
    "collapsed": false
   },
   "outputs": [
    {
     "name": "stdout",
     "output_type": "stream",
     "text": [
      "65272\n"
     ]
    }
   ],
   "source": [
    "print(train.shape[0])"
   ]
  },
  {
   "cell_type": "code",
   "execution_count": 26,
   "metadata": {
    "collapsed": false
   },
   "outputs": [
    {
     "data": {
      "text/plain": [
       "16318"
      ]
     },
     "execution_count": 26,
     "metadata": {},
     "output_type": "execute_result"
    }
   ],
   "source": [
    "test.shape[0]"
   ]
  },
  {
   "cell_type": "code",
   "execution_count": 27,
   "metadata": {
    "collapsed": false
   },
   "outputs": [
    {
     "data": {
      "text/plain": [
       "81590"
      ]
     },
     "execution_count": 27,
     "metadata": {},
     "output_type": "execute_result"
    }
   ],
   "source": [
    "df1.shape[0]"
   ]
  },
  {
   "cell_type": "code",
   "execution_count": 28,
   "metadata": {
    "collapsed": true
   },
   "outputs": [],
   "source": [
    "test.to_csv(\"test_user.csv\")"
   ]
  },
  {
   "cell_type": "code",
   "execution_count": 29,
   "metadata": {
    "collapsed": true
   },
   "outputs": [],
   "source": [
    "train.to_csv(\"train_user.csv\")"
   ]
  },
  {
   "cell_type": "code",
   "execution_count": null,
   "metadata": {
    "collapsed": true
   },
   "outputs": [],
   "source": []
  }
 ],
 "metadata": {
  "kernelspec": {
   "display_name": "Python 3",
   "language": "python",
   "name": "python3"
  },
  "language_info": {
   "codemirror_mode": {
    "name": "ipython",
    "version": 3
   },
   "file_extension": ".py",
   "mimetype": "text/x-python",
   "name": "python",
   "nbconvert_exporter": "python",
   "pygments_lexer": "ipython3",
   "version": "3.6.0"
  }
 },
 "nbformat": 4,
 "nbformat_minor": 2
}
