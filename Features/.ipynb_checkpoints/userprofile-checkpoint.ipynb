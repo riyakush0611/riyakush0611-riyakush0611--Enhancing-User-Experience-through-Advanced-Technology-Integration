{
 "cells": [
  {
   "cell_type": "code",
   "execution_count": 1,
   "metadata": {
    "collapsed": true
   },
   "outputs": [],
   "source": [
    "import pandas as pd\n",
    "import numpy as np\n",
    "from sklearn import datasets, linear_model\n",
    "from sklearn.model_selection import train_test_split\n",
    "from matplotlib import pyplot as plt"
   ]
  },
  {
   "cell_type": "code",
   "execution_count": 7,
   "metadata": {
    "collapsed": true
   },
   "outputs": [],
   "source": [
    "df1=pd.read_csv(\"DatabaseWorkedwith.csv\")\n",
    "df2=pd.read_csv(\"DevType.csv\")\n",
    "df3=pd.read_csv(\"FrameworkWorkedwith.csv\")\n",
    "df4=pd.read_csv(\"LanguageWorkedwith.csv\")\n",
    "df5=pd.read_csv(\"Operating_Systems.csv\")\n",
    "df6=pd.read_csv(\"PlatformWorkedwith.csv\")"
   ]
  },
  {
   "cell_type": "code",
   "execution_count": 10,
   "metadata": {
    "collapsed": false
   },
   "outputs": [],
   "source": [
    "d=[df3,df4,df5,df6];\n",
    "df=pd.DataFrame();\n",
    "#df=pd.merge(df2,df1);\n",
    "def merge_datasets():\n",
    "    df=pd.merge(df2,df1);\n",
    "    for i in range(len(d)):\n",
    "        df=pd.merge(df,d[i]);\n",
    "    return df;\n",
    "\n",
    "ds=merge_datasets();"
   ]
  },
  {
   "cell_type": "code",
   "execution_count": 15,
   "metadata": {
    "collapsed": false
   },
   "outputs": [
    {
     "name": "stdout",
     "output_type": "stream",
     "text": [
      "   Unnamed: 0  Respondent  Engineering manager  QA or test developer  \\\n",
      "0           0           1                  NaN                   NaN   \n",
      "1           1           3                  NaN                   NaN   \n",
      "2           2           4                  1.0                   NaN   \n",
      "3           3           5                  NaN                   NaN   \n",
      "4           4           7                  NaN                   1.0   \n",
      "\n",
      "   Designer  Mobile developer  System administrator  \\\n",
      "0       NaN               NaN                   NaN   \n",
      "1       NaN               NaN                   1.0   \n",
      "2       NaN               NaN                   NaN   \n",
      "3       NaN               NaN                   NaN   \n",
      "4       NaN               NaN                   NaN   \n",
      "\n",
      "   Game or graphics developer  Product manager  Data or business analyst  \\\n",
      "0                         NaN              NaN                       NaN   \n",
      "1                         NaN              NaN                       NaN   \n",
      "2                         NaN              NaN                       NaN   \n",
      "3                         NaN              NaN                       NaN   \n",
      "4                         1.0              NaN                       1.0   \n",
      "\n",
      "    ...     Mac OS  Raspberry Pi  Heroku  Google Home  Serverless  \\\n",
      "0   ...        NaN           NaN     NaN          NaN         NaN   \n",
      "1   ...        NaN           NaN     NaN          NaN         NaN   \n",
      "2   ...        NaN           NaN     NaN          NaN         NaN   \n",
      "3   ...        NaN           NaN     NaN          NaN         NaN   \n",
      "4   ...        NaN           NaN     NaN          NaN         NaN   \n",
      "\n",
      "   Windows Phone  Arduino  Linux  Drupal  ESP8266  \n",
      "0            NaN      NaN    1.0     NaN      NaN  \n",
      "1            NaN      NaN    1.0     NaN      NaN  \n",
      "2            NaN      NaN    NaN     NaN      NaN  \n",
      "3            NaN      NaN    NaN     NaN      NaN  \n",
      "4            NaN      1.0    NaN     NaN      NaN  \n",
      "\n",
      "[5 rows x 120 columns]\n",
      "Index(['Unnamed: 0', 'Respondent', 'Engineering manager',\n",
      "       'QA or test developer', 'Designer', 'Mobile developer',\n",
      "       'System administrator', 'Game or graphics developer', 'Product manager',\n",
      "       'Data or business analyst',\n",
      "       ...\n",
      "       'Mac OS', 'Raspberry Pi', 'Heroku', 'Google Home', 'Serverless',\n",
      "       'Windows Phone', 'Arduino', 'Linux', 'Drupal', 'ESP8266'],\n",
      "      dtype='object', length=120)\n"
     ]
    }
   ],
   "source": [
    "print(ds.head())\n",
    "print(ds.columns)\n",
    "ds.to_csv(\"user_profile.csv\")"
   ]
  },
  {
   "cell_type": "code",
   "execution_count": null,
   "metadata": {
    "collapsed": true
   },
   "outputs": [],
   "source": []
  }
 ],
 "metadata": {
  "kernelspec": {
   "display_name": "Python 3",
   "language": "python",
   "name": "python3"
  },
  "language_info": {
   "codemirror_mode": {
    "name": "ipython",
    "version": 3
   },
   "file_extension": ".py",
   "mimetype": "text/x-python",
   "name": "python",
   "nbconvert_exporter": "python",
   "pygments_lexer": "ipython3",
   "version": "3.6.0"
  }
 },
 "nbformat": 4,
 "nbformat_minor": 2
}
